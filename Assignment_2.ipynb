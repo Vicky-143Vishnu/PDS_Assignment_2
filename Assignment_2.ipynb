{
 "cells": [
  {
   "cell_type": "code",
   "execution_count": 1,
   "id": "6c2beaf9",
   "metadata": {},
   "outputs": [
    {
     "name": "stdout",
     "output_type": "stream",
     "text": [
      "<class 'pandas.core.frame.DataFrame'>\n",
      "RangeIndex: 5847 entries, 0 to 5846\n",
      "Data columns (total 14 columns):\n",
      " #   Column             Non-Null Count  Dtype  \n",
      "---  ------             --------------  -----  \n",
      " 0   Unnamed: 0         5847 non-null   int64  \n",
      " 1   Name               5847 non-null   object \n",
      " 2   Location           5847 non-null   object \n",
      " 3   Year               5847 non-null   int64  \n",
      " 4   Kilometers_Driven  5847 non-null   int64  \n",
      " 5   Fuel_Type          5847 non-null   object \n",
      " 6   Transmission       5847 non-null   object \n",
      " 7   Owner_Type         5847 non-null   object \n",
      " 8   Mileage            5845 non-null   object \n",
      " 9   Engine             5811 non-null   object \n",
      " 10  Power              5811 non-null   object \n",
      " 11  Seats              5809 non-null   float64\n",
      " 12  New_Price          815 non-null    object \n",
      " 13  Price              5847 non-null   float64\n",
      "dtypes: float64(2), int64(3), object(9)\n",
      "memory usage: 639.6+ KB\n"
     ]
    }
   ],
   "source": [
    "import pandas as pd\n",
    "import numpy as np\n",
    "df = pd.read_csv(\"train.csv\")\n",
    "df.info()"
   ]
  },
  {
   "cell_type": "markdown",
   "id": "c01cdaa7",
   "metadata": {},
   "source": [
    "### b) Remove the units from some of the attributes and only keep the numerical values (for example remove kmpl from “Mileage”, CC from “Engine”, bhp from “Power”, and lakh from “New_price”)."
   ]
  },
  {
   "cell_type": "code",
   "execution_count": 2,
   "id": "ee8fcf43",
   "metadata": {},
   "outputs": [],
   "source": [
    "# Removing kmph from mileage attribute\n",
    "\n",
    "df[\"Mileage\"] = pd.to_numeric(df[\"Mileage\"].str.replace('[^\\d.]', '', regex=True), errors='coerce')"
   ]
  },
  {
   "cell_type": "code",
   "execution_count": 3,
   "id": "1b7bfb79",
   "metadata": {},
   "outputs": [
    {
     "data": {
      "text/plain": [
       "0       19.67\n",
       "1       13.00\n",
       "2       20.77\n",
       "3       15.20\n",
       "4       23.08\n",
       "        ...  \n",
       "5842    28.40\n",
       "5843    24.40\n",
       "5844    14.00\n",
       "5845    18.90\n",
       "5846    25.44\n",
       "Name: Mileage, Length: 5847, dtype: float64"
      ]
     },
     "execution_count": 3,
     "metadata": {},
     "output_type": "execute_result"
    }
   ],
   "source": [
    "df[\"Mileage\"]"
   ]
  },
  {
   "cell_type": "code",
   "execution_count": 4,
   "id": "72d71868",
   "metadata": {},
   "outputs": [],
   "source": [
    "# Removing CC from engine attribute\n",
    "\n",
    "df[\"Engine\"] = pd.to_numeric(df[\"Engine\"].str.replace('[^\\d.]', '', regex=True), errors='coerce')"
   ]
  },
  {
   "cell_type": "code",
   "execution_count": 5,
   "id": "ffd129a5",
   "metadata": {},
   "outputs": [
    {
     "data": {
      "text/plain": [
       "0       1582.0\n",
       "1       1199.0\n",
       "2       1248.0\n",
       "3       1968.0\n",
       "4       1461.0\n",
       "         ...  \n",
       "5842    1248.0\n",
       "5843    1120.0\n",
       "5844    2498.0\n",
       "5845     998.0\n",
       "5846     936.0\n",
       "Name: Engine, Length: 5847, dtype: float64"
      ]
     },
     "execution_count": 5,
     "metadata": {},
     "output_type": "execute_result"
    }
   ],
   "source": [
    "df[\"Engine\"]"
   ]
  },
  {
   "cell_type": "code",
   "execution_count": 6,
   "id": "ccc6f4ed",
   "metadata": {},
   "outputs": [],
   "source": [
    "# Removing bhp from power attribute\n",
    "\n",
    "df[\"Power\"] = pd.to_numeric(df[\"Power\"].str.replace('[^\\d.]', '', regex=True), errors='coerce')"
   ]
  },
  {
   "cell_type": "code",
   "execution_count": 7,
   "id": "84e84116",
   "metadata": {},
   "outputs": [
    {
     "data": {
      "text/plain": [
       "0       126.20\n",
       "1        88.70\n",
       "2        88.76\n",
       "3       140.80\n",
       "4        63.10\n",
       "         ...  \n",
       "5842     74.00\n",
       "5843     71.00\n",
       "5844    112.00\n",
       "5845     67.10\n",
       "5846     57.60\n",
       "Name: Power, Length: 5847, dtype: float64"
      ]
     },
     "execution_count": 7,
     "metadata": {},
     "output_type": "execute_result"
    }
   ],
   "source": [
    "df[\"Power\"]"
   ]
  },
  {
   "cell_type": "code",
   "execution_count": 8,
   "id": "b2175295",
   "metadata": {},
   "outputs": [],
   "source": [
    "# Removing lakh from new_price attribute\n",
    "\n",
    "df[\"New_Price\"] = pd.to_numeric(df[\"New_Price\"].str.replace('[^\\d.]', '', regex=True), errors='coerce')"
   ]
  },
  {
   "cell_type": "code",
   "execution_count": 9,
   "id": "7cd29369",
   "metadata": {},
   "outputs": [
    {
     "data": {
      "text/plain": [
       "0        NaN\n",
       "1       8.61\n",
       "2        NaN\n",
       "3        NaN\n",
       "4        NaN\n",
       "        ... \n",
       "5842    7.88\n",
       "5843     NaN\n",
       "5844     NaN\n",
       "5845     NaN\n",
       "5846     NaN\n",
       "Name: New_Price, Length: 5847, dtype: float64"
      ]
     },
     "execution_count": 9,
     "metadata": {},
     "output_type": "execute_result"
    }
   ],
   "source": [
    "df[\"New_Price\"]"
   ]
  },
  {
   "cell_type": "markdown",
   "id": "654fc447",
   "metadata": {},
   "source": [
    "### c) Change the categorical variables (“Fuel_Type” and “Transmission”) into numerical one hot encoded value. "
   ]
  },
  {
   "cell_type": "code",
   "execution_count": 10,
   "id": "9fa3759c",
   "metadata": {},
   "outputs": [],
   "source": [
    "# Do the transmission mapping for the attribute\n",
    "transmission_mapping = {\"Automatic\": 0, \"Manual\": 1}\n",
    "\n",
    "# Apply label encoding to 'transmission' attribute\n",
    "df[\"Transmission\"] = df[\"Transmission\"].map(transmission_mapping)"
   ]
  },
  {
   "cell_type": "code",
   "execution_count": 11,
   "id": "f0d046e8",
   "metadata": {},
   "outputs": [
    {
     "data": {
      "text/plain": [
       "0       1\n",
       "1       1\n",
       "2       1\n",
       "3       0\n",
       "4       1\n",
       "       ..\n",
       "5842    1\n",
       "5843    1\n",
       "5844    1\n",
       "5845    1\n",
       "5846    1\n",
       "Name: Transmission, Length: 5847, dtype: int64"
      ]
     },
     "execution_count": 11,
     "metadata": {},
     "output_type": "execute_result"
    }
   ],
   "source": [
    "df[\"Transmission\"]"
   ]
  },
  {
   "cell_type": "code",
   "execution_count": 12,
   "id": "a23466bd",
   "metadata": {},
   "outputs": [],
   "source": [
    "# Do the fuel_type mapping for the attribute\n",
    "fuel_type_mapping = {\"Diesel\": 0, \"Petrol\": 1}\n",
    "\n",
    "# Apply label encoding to 'transmission' attribute\n",
    "df[\"Fuel_Type\"] = df[\"Fuel_Type\"].map(fuel_type_mapping)\n"
   ]
  },
  {
   "cell_type": "code",
   "execution_count": 13,
   "id": "0e708fb4",
   "metadata": {},
   "outputs": [
    {
     "data": {
      "text/plain": [
       "0       0.0\n",
       "1       1.0\n",
       "2       0.0\n",
       "3       0.0\n",
       "4       0.0\n",
       "       ... \n",
       "5842    0.0\n",
       "5843    0.0\n",
       "5844    0.0\n",
       "5845    1.0\n",
       "5846    0.0\n",
       "Name: Fuel_Type, Length: 5847, dtype: float64"
      ]
     },
     "execution_count": 13,
     "metadata": {},
     "output_type": "execute_result"
    }
   ],
   "source": [
    "df[\"Fuel_Type\"]"
   ]
  },
  {
   "cell_type": "markdown",
   "id": "241b1283",
   "metadata": {},
   "source": [
    "### a) Look for the missing values in all the columns and either impute them (replace with mean, median, or mode) or drop them. Justify your action for this task"
   ]
  },
  {
   "cell_type": "code",
   "execution_count": 14,
   "id": "d8361a64",
   "metadata": {},
   "outputs": [
    {
     "data": {
      "text/plain": [
       "0        NaN\n",
       "1       8.61\n",
       "2        NaN\n",
       "3        NaN\n",
       "4        NaN\n",
       "        ... \n",
       "5842    7.88\n",
       "5843     NaN\n",
       "5844     NaN\n",
       "5845     NaN\n",
       "5846     NaN\n",
       "Name: New_Price, Length: 5847, dtype: float64"
      ]
     },
     "execution_count": 14,
     "metadata": {},
     "output_type": "execute_result"
    }
   ],
   "source": [
    "# data of mileage before imputing with mean \n",
    "df[\"New_Price\"][:5847]"
   ]
  },
  {
   "cell_type": "code",
   "execution_count": 15,
   "id": "8c43da81",
   "metadata": {},
   "outputs": [],
   "source": [
    "# data of mileage after imputing with mean\n",
    "df[\"New_Price\"].fillna(df[\"New_Price\"].mean(), inplace=True)"
   ]
  },
  {
   "cell_type": "code",
   "execution_count": 16,
   "id": "4af61d00",
   "metadata": {},
   "outputs": [
    {
     "data": {
      "text/plain": [
       "0       20.484564\n",
       "1        8.610000\n",
       "2       20.484564\n",
       "3       20.484564\n",
       "4       20.484564\n",
       "          ...    \n",
       "5842     7.880000\n",
       "5843    20.484564\n",
       "5844    20.484564\n",
       "5845    20.484564\n",
       "5846    20.484564\n",
       "Name: New_Price, Length: 5847, dtype: float64"
      ]
     },
     "execution_count": 16,
     "metadata": {},
     "output_type": "execute_result"
    }
   ],
   "source": [
    "df[\"New_Price\"]"
   ]
  },
  {
   "cell_type": "code",
   "execution_count": 17,
   "id": "43a43814",
   "metadata": {},
   "outputs": [],
   "source": [
    "df[\"Mileage\"].fillna(df[\"Mileage\"].mean(), inplace=True)"
   ]
  },
  {
   "cell_type": "code",
   "execution_count": 18,
   "id": "c9585441",
   "metadata": {},
   "outputs": [
    {
     "data": {
      "text/plain": [
       "0       19.67\n",
       "1       13.00\n",
       "2       20.77\n",
       "3       15.20\n",
       "4       23.08\n",
       "        ...  \n",
       "5842    28.40\n",
       "5843    24.40\n",
       "5844    14.00\n",
       "5845    18.90\n",
       "5846    25.44\n",
       "Name: Mileage, Length: 5847, dtype: float64"
      ]
     },
     "execution_count": 18,
     "metadata": {},
     "output_type": "execute_result"
    }
   ],
   "source": [
    "df[\"Mileage\"]"
   ]
  },
  {
   "cell_type": "code",
   "execution_count": 19,
   "id": "c8512d4f",
   "metadata": {},
   "outputs": [
    {
     "data": {
      "text/plain": [
       "0       1582.0\n",
       "1       1199.0\n",
       "2       1248.0\n",
       "3       1968.0\n",
       "4       1461.0\n",
       "         ...  \n",
       "5842    1248.0\n",
       "5843    1120.0\n",
       "5844    2498.0\n",
       "5845     998.0\n",
       "5846     936.0\n",
       "Name: Engine, Length: 5847, dtype: float64"
      ]
     },
     "execution_count": 19,
     "metadata": {},
     "output_type": "execute_result"
    }
   ],
   "source": [
    "df[\"Engine\"].fillna(df[\"Engine\"].mean(), inplace=True)\n",
    "df[\"Engine\"]"
   ]
  },
  {
   "cell_type": "code",
   "execution_count": 20,
   "id": "126a4203",
   "metadata": {},
   "outputs": [
    {
     "data": {
      "text/plain": [
       "0       126.20\n",
       "1        88.70\n",
       "2        88.76\n",
       "3       140.80\n",
       "4        63.10\n",
       "         ...  \n",
       "5842     74.00\n",
       "5843     71.00\n",
       "5844    112.00\n",
       "5845     67.10\n",
       "5846     57.60\n",
       "Name: Power, Length: 5847, dtype: float64"
      ]
     },
     "execution_count": 20,
     "metadata": {},
     "output_type": "execute_result"
    }
   ],
   "source": [
    "df[\"Power\"].fillna(df[\"Power\"].mean(), inplace=True)\n",
    "df[\"Power\"]"
   ]
  },
  {
   "cell_type": "code",
   "execution_count": 21,
   "id": "6f8de398",
   "metadata": {},
   "outputs": [
    {
     "data": {
      "text/plain": [
       "0       5.0\n",
       "1       5.0\n",
       "2       7.0\n",
       "3       5.0\n",
       "4       5.0\n",
       "       ... \n",
       "5842    5.0\n",
       "5843    5.0\n",
       "5844    8.0\n",
       "5845    5.0\n",
       "5846    5.0\n",
       "Name: Seats, Length: 5847, dtype: float64"
      ]
     },
     "execution_count": 21,
     "metadata": {},
     "output_type": "execute_result"
    }
   ],
   "source": [
    "df[\"Seats\"].fillna(df[\"Seats\"].mean(), inplace=True)\n",
    "df[\"Seats\"]"
   ]
  },
  {
   "cell_type": "markdown",
   "id": "d9db5816",
   "metadata": {},
   "source": [
    "#### Mileage, Engine, Power, Seats and New_Price attributes having missing values, so Iam doing imputation with mean. By doing this imputation, the missing values will recover and there will be no loss of data. The dataset will be cleaned finally after doing imputation."
   ]
  },
  {
   "cell_type": "code",
   "execution_count": 22,
   "id": "8e93b3f7",
   "metadata": {},
   "outputs": [
    {
     "name": "stdout",
     "output_type": "stream",
     "text": [
      "<class 'pandas.core.frame.DataFrame'>\n",
      "RangeIndex: 5847 entries, 0 to 5846\n",
      "Data columns (total 14 columns):\n",
      " #   Column             Non-Null Count  Dtype  \n",
      "---  ------             --------------  -----  \n",
      " 0   Unnamed: 0         5847 non-null   int64  \n",
      " 1   Name               5847 non-null   object \n",
      " 2   Location           5847 non-null   object \n",
      " 3   Year               5847 non-null   int64  \n",
      " 4   Kilometers_Driven  5847 non-null   int64  \n",
      " 5   Fuel_Type          5845 non-null   float64\n",
      " 6   Transmission       5847 non-null   int64  \n",
      " 7   Owner_Type         5847 non-null   object \n",
      " 8   Mileage            5847 non-null   float64\n",
      " 9   Engine             5847 non-null   float64\n",
      " 10  Power              5847 non-null   float64\n",
      " 11  Seats              5847 non-null   float64\n",
      " 12  New_Price          5847 non-null   float64\n",
      " 13  Price              5847 non-null   float64\n",
      "dtypes: float64(7), int64(4), object(3)\n",
      "memory usage: 639.6+ KB\n"
     ]
    }
   ],
   "source": [
    "# Justifying the statement.\n",
    "df.info()"
   ]
  },
  {
   "cell_type": "markdown",
   "id": "002f3b26",
   "metadata": {},
   "source": [
    "### d) Create one more feature and add this column to the dataset (you can use mutate function in R for this). For example, you can calculate the current age of the car by subtracting “Year” value from the current year. "
   ]
  },
  {
   "cell_type": "code",
   "execution_count": 23,
   "id": "60bd301d",
   "metadata": {},
   "outputs": [],
   "source": [
    "current_year = 2024\n",
    "df[\"Age\"] = current_year - df[\"Year\"]"
   ]
  },
  {
   "cell_type": "code",
   "execution_count": 24,
   "id": "f227c1c7",
   "metadata": {},
   "outputs": [
    {
     "data": {
      "text/plain": [
       "0        9\n",
       "1       13\n",
       "2       12\n",
       "3       11\n",
       "4       11\n",
       "        ..\n",
       "5842    10\n",
       "5843     9\n",
       "5844    12\n",
       "5845    11\n",
       "5846    13\n",
       "Name: Age, Length: 5847, dtype: int64"
      ]
     },
     "execution_count": 24,
     "metadata": {},
     "output_type": "execute_result"
    }
   ],
   "source": [
    "df[\"Age\"]"
   ]
  },
  {
   "cell_type": "code",
   "execution_count": 25,
   "id": "298fcacd",
   "metadata": {},
   "outputs": [
    {
     "name": "stdout",
     "output_type": "stream",
     "text": [
      "<class 'pandas.core.frame.DataFrame'>\n",
      "RangeIndex: 5847 entries, 0 to 5846\n",
      "Data columns (total 15 columns):\n",
      " #   Column             Non-Null Count  Dtype  \n",
      "---  ------             --------------  -----  \n",
      " 0   Unnamed: 0         5847 non-null   int64  \n",
      " 1   Name               5847 non-null   object \n",
      " 2   Location           5847 non-null   object \n",
      " 3   Year               5847 non-null   int64  \n",
      " 4   Kilometers_Driven  5847 non-null   int64  \n",
      " 5   Fuel_Type          5845 non-null   float64\n",
      " 6   Transmission       5847 non-null   int64  \n",
      " 7   Owner_Type         5847 non-null   object \n",
      " 8   Mileage            5847 non-null   float64\n",
      " 9   Engine             5847 non-null   float64\n",
      " 10  Power              5847 non-null   float64\n",
      " 11  Seats              5847 non-null   float64\n",
      " 12  New_Price          5847 non-null   float64\n",
      " 13  Price              5847 non-null   float64\n",
      " 14  Age                5847 non-null   int64  \n",
      "dtypes: float64(7), int64(5), object(3)\n",
      "memory usage: 685.3+ KB\n"
     ]
    }
   ],
   "source": [
    "df.info()"
   ]
  },
  {
   "cell_type": "markdown",
   "id": "5edc8638",
   "metadata": {},
   "source": [
    "### e) Perform select, filter, rename, mutate, arrange and summarize with group by operations (or their equivalent operations in python) on this dataset."
   ]
  },
  {
   "cell_type": "code",
   "execution_count": 26,
   "id": "fb91aefb",
   "metadata": {},
   "outputs": [
    {
     "name": "stdout",
     "output_type": "stream",
     "text": [
      "Selected Columns:\n",
      "     Location  Year  Kilometers_Driven   Power  Price\n",
      "0        Pune  2015              41000  126.20  12.50\n",
      "1     Chennai  2011              46000   88.70   4.50\n",
      "2     Chennai  2012              87000   88.76   6.00\n",
      "3  Coimbatore  2013              40670  140.80  17.74\n",
      "4      Jaipur  2013              86999   63.10   3.50\n",
      "\n",
      "Filtered Data (Year > 2015):\n",
      "    Unnamed: 0                               Name Location  Year  \\\n",
      "5            7  Toyota Innova Crysta 2.8 GX AT 8S   Mumbai  2016   \n",
      "8           10                   Maruti Ciaz Zeta    Kochi  2018   \n",
      "14          16              Honda Amaze S i-Dtech    Kochi  2016   \n",
      "15          17              Maruti Swift DDiS VDI   Jaipur  2017   \n",
      "26          28                Honda WRV i-VTEC VX    Kochi  2018   \n",
      "\n",
      "    Kilometers_Driven  Fuel_Type  Transmission Owner_Type  Mileage  Engine  \\\n",
      "5               36000        0.0             0      First    11.36  2755.0   \n",
      "8               25692        1.0             1      First    21.56  1462.0   \n",
      "14              58950        0.0             1      First    25.80  1498.0   \n",
      "15              25000        0.0             1      First    28.40  1248.0   \n",
      "26              37430        1.0             1      First    17.50  1199.0   \n",
      "\n",
      "     Power  Seats  New_Price  Price  Age  \n",
      "5   171.50    8.0  21.000000  17.50    8  \n",
      "8   103.25    5.0  10.650000   9.95    6  \n",
      "14   98.60    5.0  20.484564   5.40    8  \n",
      "15   74.00    5.0  20.484564   5.99    7  \n",
      "26   88.70    5.0  10.570000   9.90    6  \n",
      "\n",
      "Renamed Columns:\n",
      "   Unnamed: 0                              Name    Location  Year  \\\n",
      "0           1  Hyundai Creta 1.6 CRDi SX Option        Pune  2015   \n",
      "1           2                      Honda Jazz V     Chennai  2011   \n",
      "2           3                 Maruti Ertiga VDI     Chennai  2012   \n",
      "3           4   Audi A4 New 2.0 TDI Multitronic  Coimbatore  2013   \n",
      "4           6            Nissan Micra Diesel XV      Jaipur  2013   \n",
      "\n",
      "   Kilometers_Driven  Fuel_Type  Transmission_Type Owner_Type  Mileage  \\\n",
      "0              41000        0.0                  1      First    19.67   \n",
      "1              46000        1.0                  1      First    13.00   \n",
      "2              87000        0.0                  1      First    20.77   \n",
      "3              40670        0.0                  0     Second    15.20   \n",
      "4              86999        0.0                  1      First    23.08   \n",
      "\n",
      "   Engine   Power  People_Capacity  New_Price  Price  Age  \n",
      "0  1582.0  126.20              5.0  20.484564  12.50    9  \n",
      "1  1199.0   88.70              5.0   8.610000   4.50   13  \n",
      "2  1248.0   88.76              7.0  20.484564   6.00   12  \n",
      "3  1968.0  140.80              5.0  20.484564  17.74   11  \n",
      "4  1461.0   63.10              5.0  20.484564   3.50   11  \n",
      "\n",
      "Sorted by Price:\n",
      "      Unnamed: 0                                         Name    Location  \\\n",
      "3952        4079  Land Rover Range Rover 3.0 Diesel LWB Vogue   Hyderabad   \n",
      "5620        5781                   Lamborghini Gallardo Coupe       Delhi   \n",
      "5752        5919                       Jaguar F Type 5.0 V8 S   Hyderabad   \n",
      "1457        1505              Land Rover Range Rover Sport SE       Kochi   \n",
      "1917        1974                           BMW 7 Series 740Li  Coimbatore   \n",
      "\n",
      "      Year  Kilometers_Driven  Fuel_Type  Transmission Owner_Type  Mileage  \\\n",
      "3952  2017              25000        0.0             0      First    13.33   \n",
      "5620  2011               6500        1.0             0      Third     6.40   \n",
      "5752  2015               8000        1.0             0      First    12.50   \n",
      "1457  2019              26013        0.0             0      First    12.65   \n",
      "1917  2018              28060        1.0             0      First    12.05   \n",
      "\n",
      "      Engine  Power  Seats  New_Price   Price  Age  \n",
      "3952  2993.0  255.0    5.0   2.300000  160.00    7  \n",
      "5620  5204.0  560.0    2.0  20.484564  120.00   13  \n",
      "5752  5000.0  488.1    2.0  20.484564  100.00    9  \n",
      "1457  2993.0  255.0    5.0   1.390000   97.07    5  \n",
      "1917  2979.0  320.0    5.0  20.484564   93.67    6  \n",
      "\n",
      "Summary Statistics (Mean Price by Fuel Type):\n",
      "Fuel_Type\n",
      "0.0    12.960686\n",
      "1.0     5.756688\n",
      "Name: Price, dtype: float64\n",
      "\n",
      "Summary Statistics (Complex):\n",
      "               Price             \n",
      "                mean   min    max\n",
      "Fuel_Type                        \n",
      "0.0        12.960686  0.60  160.0\n",
      "1.0         5.756688  0.44  120.0\n"
     ]
    }
   ],
   "source": [
    "selected_columns = df[['Location', 'Year', 'Kilometers_Driven', 'Power', 'Price']]\n",
    "filtered_data = df[df['Year'] > 2015]\n",
    "renamed_df = df.rename(columns={'Transmission': 'Transmission_Type', 'Seats': 'People_Capacity'})\n",
    "sorted_df = df.sort_values(by='Price', ascending=False)\n",
    "summary_stats = df.groupby('Fuel_Type')['Price'].mean()\n",
    "summary_stats_complex = df.groupby('Fuel_Type').agg({'Price': ['mean', 'min', 'max']})\n",
    "\n",
    "print(\"Selected Columns:\")\n",
    "print(selected_columns.head())\n",
    "\n",
    "print(\"\\nFiltered Data (Year > 2015):\")\n",
    "print(filtered_data.head())\n",
    "\n",
    "print(\"\\nRenamed Columns:\")\n",
    "print(renamed_df.head())\n",
    "\n",
    "print(\"\\nSorted by Price:\")\n",
    "print(sorted_df.head())\n",
    "\n",
    "print(\"\\nSummary Statistics (Mean Price by Fuel Type):\")\n",
    "print(summary_stats)\n",
    "\n",
    "print(\"\\nSummary Statistics (Complex):\")\n",
    "print(summary_stats_complex)"
   ]
  },
  {
   "cell_type": "code",
   "execution_count": 27,
   "id": "2f942645",
   "metadata": {},
   "outputs": [],
   "source": [
    "with open('..//Assignment 2//results.txt', 'w') as file:\n",
    "    # Selected Columns\n",
    "    file.write(\"Selected Columns:\\n\")\n",
    "    file.write(selected_columns.head().to_string(index=False))\n",
    "    \n",
    "    # Filtered Data (Year > 2015)\n",
    "    file.write(\"\\n\\nFiltered Data (Year > 2015):\\n\")\n",
    "    file.write(filtered_data.head().to_string(index=False))\n",
    "    \n",
    "    # Renamed Columns\n",
    "    file.write(\"\\n\\nRenamed Columns:\\n\")\n",
    "    file.write(renamed_df.head().to_string(index=False))\n",
    "    \n",
    "    # Sorted by Price\n",
    "    file.write(\"\\n\\nSorted by Price:\\n\")\n",
    "    file.write(sorted_df.head().to_string(index=False))\n",
    "    \n",
    "    # Summary Statistics (Mean Price by Fuel Type)\n",
    "    file.write(\"\\n\\nSummary Statistics (Mean Price by Fuel Type):\\n\")\n",
    "    file.write(summary_stats.to_string())\n",
    "    \n",
    "    # Summary Statistics (Complex)\n",
    "    file.write(\"\\n\\nSummary Statistics (Complex):\\n\")\n",
    "    file.write(summary_stats_complex.to_string())"
   ]
  },
  {
   "cell_type": "code",
   "execution_count": 28,
   "id": "a995a4f7",
   "metadata": {},
   "outputs": [
    {
     "data": {
      "text/html": [
       "<div>\n",
       "<style scoped>\n",
       "    .dataframe tbody tr th:only-of-type {\n",
       "        vertical-align: middle;\n",
       "    }\n",
       "\n",
       "    .dataframe tbody tr th {\n",
       "        vertical-align: top;\n",
       "    }\n",
       "\n",
       "    .dataframe thead th {\n",
       "        text-align: right;\n",
       "    }\n",
       "</style>\n",
       "<table border=\"1\" class=\"dataframe\">\n",
       "  <thead>\n",
       "    <tr style=\"text-align: right;\">\n",
       "      <th></th>\n",
       "      <th>Unnamed: 0</th>\n",
       "      <th>Name</th>\n",
       "      <th>Location</th>\n",
       "      <th>Year</th>\n",
       "      <th>Kilometers_Driven</th>\n",
       "      <th>Fuel_Type</th>\n",
       "      <th>Transmission</th>\n",
       "      <th>Owner_Type</th>\n",
       "      <th>Mileage</th>\n",
       "      <th>Engine</th>\n",
       "      <th>Power</th>\n",
       "      <th>Seats</th>\n",
       "      <th>New_Price</th>\n",
       "      <th>Price</th>\n",
       "      <th>Age</th>\n",
       "    </tr>\n",
       "  </thead>\n",
       "  <tbody>\n",
       "    <tr>\n",
       "      <th>0</th>\n",
       "      <td>1</td>\n",
       "      <td>Hyundai Creta 1.6 CRDi SX Option</td>\n",
       "      <td>Pune</td>\n",
       "      <td>2015</td>\n",
       "      <td>41000</td>\n",
       "      <td>0.0</td>\n",
       "      <td>1</td>\n",
       "      <td>First</td>\n",
       "      <td>19.67</td>\n",
       "      <td>1582.0</td>\n",
       "      <td>126.20</td>\n",
       "      <td>5.0</td>\n",
       "      <td>20.484564</td>\n",
       "      <td>12.50</td>\n",
       "      <td>9</td>\n",
       "    </tr>\n",
       "    <tr>\n",
       "      <th>1</th>\n",
       "      <td>2</td>\n",
       "      <td>Honda Jazz V</td>\n",
       "      <td>Chennai</td>\n",
       "      <td>2011</td>\n",
       "      <td>46000</td>\n",
       "      <td>1.0</td>\n",
       "      <td>1</td>\n",
       "      <td>First</td>\n",
       "      <td>13.00</td>\n",
       "      <td>1199.0</td>\n",
       "      <td>88.70</td>\n",
       "      <td>5.0</td>\n",
       "      <td>8.610000</td>\n",
       "      <td>4.50</td>\n",
       "      <td>13</td>\n",
       "    </tr>\n",
       "    <tr>\n",
       "      <th>2</th>\n",
       "      <td>3</td>\n",
       "      <td>Maruti Ertiga VDI</td>\n",
       "      <td>Chennai</td>\n",
       "      <td>2012</td>\n",
       "      <td>87000</td>\n",
       "      <td>0.0</td>\n",
       "      <td>1</td>\n",
       "      <td>First</td>\n",
       "      <td>20.77</td>\n",
       "      <td>1248.0</td>\n",
       "      <td>88.76</td>\n",
       "      <td>7.0</td>\n",
       "      <td>20.484564</td>\n",
       "      <td>6.00</td>\n",
       "      <td>12</td>\n",
       "    </tr>\n",
       "    <tr>\n",
       "      <th>3</th>\n",
       "      <td>4</td>\n",
       "      <td>Audi A4 New 2.0 TDI Multitronic</td>\n",
       "      <td>Coimbatore</td>\n",
       "      <td>2013</td>\n",
       "      <td>40670</td>\n",
       "      <td>0.0</td>\n",
       "      <td>0</td>\n",
       "      <td>Second</td>\n",
       "      <td>15.20</td>\n",
       "      <td>1968.0</td>\n",
       "      <td>140.80</td>\n",
       "      <td>5.0</td>\n",
       "      <td>20.484564</td>\n",
       "      <td>17.74</td>\n",
       "      <td>11</td>\n",
       "    </tr>\n",
       "    <tr>\n",
       "      <th>4</th>\n",
       "      <td>6</td>\n",
       "      <td>Nissan Micra Diesel XV</td>\n",
       "      <td>Jaipur</td>\n",
       "      <td>2013</td>\n",
       "      <td>86999</td>\n",
       "      <td>0.0</td>\n",
       "      <td>1</td>\n",
       "      <td>First</td>\n",
       "      <td>23.08</td>\n",
       "      <td>1461.0</td>\n",
       "      <td>63.10</td>\n",
       "      <td>5.0</td>\n",
       "      <td>20.484564</td>\n",
       "      <td>3.50</td>\n",
       "      <td>11</td>\n",
       "    </tr>\n",
       "  </tbody>\n",
       "</table>\n",
       "</div>"
      ],
      "text/plain": [
       "   Unnamed: 0                              Name    Location  Year  \\\n",
       "0           1  Hyundai Creta 1.6 CRDi SX Option        Pune  2015   \n",
       "1           2                      Honda Jazz V     Chennai  2011   \n",
       "2           3                 Maruti Ertiga VDI     Chennai  2012   \n",
       "3           4   Audi A4 New 2.0 TDI Multitronic  Coimbatore  2013   \n",
       "4           6            Nissan Micra Diesel XV      Jaipur  2013   \n",
       "\n",
       "   Kilometers_Driven  Fuel_Type  Transmission Owner_Type  Mileage  Engine  \\\n",
       "0              41000        0.0             1      First    19.67  1582.0   \n",
       "1              46000        1.0             1      First    13.00  1199.0   \n",
       "2              87000        0.0             1      First    20.77  1248.0   \n",
       "3              40670        0.0             0     Second    15.20  1968.0   \n",
       "4              86999        0.0             1      First    23.08  1461.0   \n",
       "\n",
       "    Power  Seats  New_Price  Price  Age  \n",
       "0  126.20    5.0  20.484564  12.50    9  \n",
       "1   88.70    5.0   8.610000   4.50   13  \n",
       "2   88.76    7.0  20.484564   6.00   12  \n",
       "3  140.80    5.0  20.484564  17.74   11  \n",
       "4   63.10    5.0  20.484564   3.50   11  "
      ]
     },
     "execution_count": 28,
     "metadata": {},
     "output_type": "execute_result"
    }
   ],
   "source": [
    "df.head()"
   ]
  },
  {
   "cell_type": "code",
   "execution_count": null,
   "id": "bdbed0f5",
   "metadata": {},
   "outputs": [],
   "source": []
  }
 ],
 "metadata": {
  "kernelspec": {
   "display_name": "Python 3 (ipykernel)",
   "language": "python",
   "name": "python3"
  },
  "language_info": {
   "codemirror_mode": {
    "name": "ipython",
    "version": 3
   },
   "file_extension": ".py",
   "mimetype": "text/x-python",
   "name": "python",
   "nbconvert_exporter": "python",
   "pygments_lexer": "ipython3",
   "version": "3.11.4"
  }
 },
 "nbformat": 4,
 "nbformat_minor": 5
}
